{
  "cells": [
    {
      "cell_type": "code",
      "execution_count": null,
      "metadata": {
        "id": "Q8i_K-Od-SP1",
        "colab": {
          "base_uri": "https://localhost:8080/"
        },
        "outputId": "46ae0f5a-af9a-4846-c596-745c8b7e862e"
      },
      "outputs": [
        {
          "output_type": "stream",
          "name": "stdout",
          "text": [
            "Mounted at /content/gdrive\n"
          ]
        }
      ],
      "source": [
        "from google.colab import drive\n",
        "drive.mount('/content/gdrive')"
      ]
    },
    {
      "cell_type": "code",
      "execution_count": null,
      "metadata": {
        "id": "BxJx_6SA-dhI"
      },
      "outputs": [],
      "source": [
        "import pandas as pd\n",
        "import numpy as np\n",
        "import matplotlib.pyplot as plt\n",
        "from re import X\n",
        "from random import seed\n",
        "from random import randrange"
      ]
    },
    {
      "cell_type": "code",
      "execution_count": null,
      "metadata": {
        "id": "mZdBamd1-l65"
      },
      "outputs": [],
      "source": [
        "#Load Data\n",
        "data= pd.read_csv('/content/gdrive/MyDrive/ECSE 551/MP1/White_wine Quality.csv')\n",
        "\n",
        "df = pd.DataFrame(data)"
      ]
    },
    {
      "cell_type": "code",
      "execution_count": null,
      "metadata": {
        "id": "gQ5Hhq57mH-z",
        "colab": {
          "base_uri": "https://localhost:8080/"
        },
        "outputId": "a830c255-9d32-4aca-85d2-bc5da36ff685"
      },
      "outputs": [
        {
          "output_type": "stream",
          "name": "stdout",
          "text": [
            "      Alcohol  Malic acid   Ash  Alkalinity of ash  Magnesium  Total phenols  \\\n",
            "0     0.19469     0.34932  0.07           0.082192   0.128550       0.140850   \n",
            "1     0.30088     0.20548  0.17           0.075342   0.101840       0.070423   \n",
            "2     0.30088     0.20548  0.17           0.075342   0.101840       0.070423   \n",
            "3     0.24779     0.34247  0.05           0.068493   0.093489       0.323940   \n",
            "4     0.25664     0.27397  0.42           0.095890   0.125210       0.098592   \n",
            "...       ...         ...   ...                ...        ...            ...   \n",
            "1593  0.19469     0.32192  0.10           0.054795   0.085142       0.464790   \n",
            "1594  0.18584     0.63014  0.08           0.095890   0.091820       0.253520   \n",
            "1595  0.23894     0.58904  0.05           0.082192   0.081803       0.267610   \n",
            "1596  0.47788     0.39041  0.11           0.034247   0.120200       0.098592   \n",
            "1597  0.18584     0.39726  0.08           0.195210   0.091820       0.098592   \n",
            "\n",
            "      Flavanoids  Nonflavanoid phenols  Proanthocyanins       Hue  \\\n",
            "0       0.134280               0.38371          0.57480  0.131740   \n",
            "1       0.042403               0.52311          0.43307  0.167660   \n",
            "2       0.042403               0.52311          0.43307  0.167660   \n",
            "3       0.127210               0.44241          0.53543  0.143710   \n",
            "4       0.113070               0.52311          0.66142  0.167660   \n",
            "...          ...                   ...              ...       ...   \n",
            "1593    0.166080               0.42040          0.52756  0.203590   \n",
            "1594    0.091873               0.47029          0.61417  0.143710   \n",
            "1595    0.151940               0.51211          0.44882  0.131740   \n",
            "1596    0.063604               0.41893          0.11024  0.083832   \n",
            "1597    0.035336               0.23991          0.54331  0.113770   \n",
            "\n",
            "      Class Labels  \n",
            "0                1  \n",
            "1                1  \n",
            "2                1  \n",
            "3                1  \n",
            "4                1  \n",
            "...            ...  \n",
            "1593             0  \n",
            "1594             0  \n",
            "1595             0  \n",
            "1596             0  \n",
            "1597             0  \n",
            "\n",
            "[1598 rows x 11 columns]\n"
          ]
        }
      ],
      "source": [
        "# Define the header labels for the predictor variables\n",
        "header_labels = [\"Alcohol\", \"Malic acid\", \"Ash\", \"Alkalinity of ash\", \"Magnesium\", \"Total phenols\", \"Flavanoids\", \"Nonflavanoid phenols\", \"Proanthocyanins\", \"Hue\",\"Class Labels\"]\n",
        "# Add the header labels to the DataFrame\n",
        "df.columns = header_labels\n",
        "# # Display the DataFrame\n",
        "print(df)"
      ]
    },
    {
      "cell_type": "code",
      "execution_count": null,
      "metadata": {
        "id": "Irzn137pWq0D",
        "colab": {
          "base_uri": "https://localhost:8080/",
          "height": 280
        },
        "outputId": "79c20f83-ea28-4251-8aaf-5b02cebbc65a"
      },
      "outputs": [
        {
          "output_type": "execute_result",
          "data": {
            "text/plain": [
              "<matplotlib.axes._subplots.AxesSubplot at 0x7f758a52acd0>"
            ]
          },
          "metadata": {},
          "execution_count": 5
        },
        {
          "output_type": "display_data",
          "data": {
            "text/plain": [
              "<Figure size 432x288 with 1 Axes>"
            ],
            "image/png": "[encoded data removed]"
          },
          "metadata": {
            "needs_background": "light"
          }
        }
      ],
      "source": [
        "###################Step 1: Data Distribution#################\n",
        "#Class Distribution\n",
        "class_labels = df[\"Class Labels\"]\n",
        "class_label_counts = class_labels.value_counts()\n",
        "class_label_counts.plot(kind=\"bar\")"
      ]
    },
    {
      "cell_type": "code",
      "execution_count": null,
      "metadata": {
        "id": "RGCMvANTmpEz",
        "colab": {
          "base_uri": "https://localhost:8080/",
          "height": 295
        },
        "outputId": "3961e07d-1331-4541-d62b-3691b739d2dc"
      },
      "outputs": [
        {
          "output_type": "display_data",
          "data": {
            "text/plain": [
              "<Figure size 432x288 with 2 Axes>"
            ],
            "image/png": "[encoded data removed]"
          },
          "metadata": {
            "needs_background": "light"
          }
        }
      ],
      "source": [
        "# Filter the DataFrame to only include rows with Class Labels 1 or 0\n",
        "#Class 1 = Good\n",
        "#Class 0 Bad\n",
        "class_0 = df[df['Class Labels'] == 0]\n",
        "class_1 = df[df['Class Labels'] == 1]\n",
        "# Plot the distribution of the \"Alcohol\" column for the class 1\n",
        "# Create a figure and two subplots\n",
        "fig, (ax1, ax2) = plt.subplots(1, 2)\n",
        "\n",
        "# Plot data1 in first subplot\n",
        "ax1.hist(class_0['Hue'], bins=20, edgecolor='k')\n",
        "ax1.set_title('Distribution of Alcohol for Class 0')\n",
        "plt.xlabel('Alcohol')\n",
        "plt.ylabel('Count')\n",
        "\n",
        "\n",
        "# Plot data2 in second subplot\n",
        "ax2.hist(class_1['Hue'], bins=20, edgecolor='k')\n",
        "ax2.set_title('Distribution of Alcohol for Class 1')\n",
        "plt.xlabel('Alcohol')\n",
        "plt.ylabel('Count')\n",
        "plt.show()"
      ]
    },
    {
      "cell_type": "markdown",
      "source": [
        "This section is spliting the data. The line x = dataset[:, 0:5] is selection the features. If you want to use a specific column of feature and remove the rest of them to change the accuracy just you need to change the number this line:\n",
        "\n",
        "***Note that default setting is using all 10 features***\n",
        "\n",
        "x = dataset[:, 0:10]"
      ],
      "metadata": {
        "id": "zfhtSfpuHO95"
      }
    },
    {
      "cell_type": "code",
      "source": [
        "# from sklearn.utils import shuffle\n",
        "# #Shuffle the dataset\n",
        "# dataset = shuffle(np.array(data))\n",
        "# #Save the shuffled dataset to a new file\n",
        "# np.savetxt('/content/gdrive/MyDrive/ECSE 551/MP1/White_wine Quality_shuffled.csv', dataset, delimiter=',')"
      ],
      "metadata": {
        "id": "EyFKhANyB76e"
      },
      "execution_count": null,
      "outputs": []
    },
    {
      "cell_type": "code",
      "execution_count": null,
      "metadata": {
        "id": "ALk6yiiijF2i",
        "colab": {
          "base_uri": "https://localhost:8080/"
        },
        "outputId": "4a30d34c-73a5-4af4-986c-367f76c1bfd0"
      },
      "outputs": [
        {
          "output_type": "stream",
          "name": "stdout",
          "text": [
            "(1598,)\n",
            "X_trian shape (1278, 9)\n",
            "X_test shape (320, 9)\n",
            "y_train shape (1278,)\n",
            "y_test shape (320,)\n",
            "[1. 1. 1. ... 0. 1. 1.]\n"
          ]
        }
      ],
      "source": [
        "#Split Data\n",
        "dataset = np.loadtxt('/content/gdrive/MyDrive/ECSE 551/MP1/White_wine Quality_shuffled.csv', delimiter=',')\n",
        "X = dataset[:, [0,1,2,3,4,5,6,7,8,9]]\n",
        "y = dataset[:, 10]\n",
        "# # Split the data into training and testing sets\n",
        "train_ratio = 0.8\n",
        "train_size = int(train_ratio * X.shape[0])\n",
        "X_train, X_test = X[:train_size, :], X[train_size:, :]\n",
        "y_train, y_test = y[:train_size], y[train_size:]\n",
        "\n",
        "print(y.shape)\n",
        "print(\"X_trian shape\", X_train.shape)\n",
        "print(\"X_test shape\", X_test.shape)\n",
        "print(\"y_train shape\", y_train.shape)\n",
        "print(\"y_test shape\", y_test.shape)\n",
        "print(y)"
      ]
    },
    {
      "cell_type": "code",
      "source": [
        "from tqdm import tqdm\n",
        "import numpy as np\n",
        "import random\n",
        "\n",
        "\n",
        "class LogisticRegression:\n",
        "    def sigmoid(self, z):\n",
        "        sig = 1 / (1 + np.exp(-z))\n",
        "        return sig\n",
        "\n",
        "    def cost_function(self, y_train, y_predict):\n",
        "        # using negative log-likelihood to calculate the cost entropy loss function\n",
        "        cost = -np.mean(y_train*(np.log(y_predict)) - (1-y_train)*np.log(1-y_predict))\n",
        "        return cost\n",
        "\n",
        "    def gradient_descent(self, X_train, y_train, y_predict):\n",
        "        m = X_train.shape[0]\n",
        "        W_grad = (1/m)*np.dot(X_train.T, (y_predict - y_train))\n",
        "        return W_grad\n",
        "\n",
        "    def fit(self, X_train, y_train, alpha=0.01, k=50000):\n",
        "        m, n = X_train.shape\n",
        "        y_train = y_train.reshape(m,1)\n",
        "        W_fit = np.zeros((n,1))\n",
        "        loss_value = []\n",
        "\n",
        "        for i in tqdm(range(k)):\n",
        "            y_predict = self.sigmoid(np.dot(X_train, W_fit))\n",
        "            w_grad = self.gradient_descent(X_train, y_train, y_predict)\n",
        "            W_fit -= alpha*w_grad\n",
        "        loss_fuc = self.cost_function(y_train, y_predict)\n",
        "        loss_value.append(loss_fuc)\n",
        "        return W_fit, loss_value\n",
        "\n",
        "    def predict(self, X_test, W):\n",
        "        y_pred = self.sigmoid(np.dot(X_test, W))\n",
        "        predict_classes = []\n",
        "        predict_classes = [1 if prediction > 0.5 else 0 for prediction in y_pred]\n",
        "        return np.array(predict_classes)\n",
        "\n",
        "    def accu_eval(self, y_pred, y_test):\n",
        "        accuracy = np.sum(y_test == y_pred) / len(y_test)\n",
        "        return accuracy\n",
        "\n",
        "\n",
        "\n",
        "    def cross_validation_split(self, X, y, folds):\n",
        "        X_split = []\n",
        "        y_split = []\n",
        "        fold_size = int(len(X) / folds)\n",
        "        for i in range(folds):\n",
        "            fold_start = i * fold_size\n",
        "            fold_end = fold_start + fold_size\n",
        "            fold_X = X[fold_start:fold_end]\n",
        "            fold_y = y[fold_start:fold_end]\n",
        "            X_split.append(fold_X)\n",
        "            y_split.append(fold_y)\n",
        "            print(fold_X.shape, fold_y.shape)\n",
        "        return np.array(X_split), np.array(y_split)\n",
        "\n",
        "    def k_fold_cross_validation(self, X, y, k=10):\n",
        "        folds = self.cross_validation_split(X, y, k)\n",
        "        X_folds = folds[0]\n",
        "        y_folds = folds[1]\n",
        "        indices = np.arange(k)\n",
        "        accuracy = 0\n",
        "\n",
        "        # exclude index fold\n",
        "        for index in range(k):\n",
        "          #spliting data\n",
        "          X_train = np.concatenate(X_folds[indices!= index])\n",
        "          Y_train = np.concatenate(y_folds[indices!= index])   \n",
        "          X_test = X_folds[index]\n",
        "          Y_test = y_folds[index]\n",
        "          #training\n",
        "          W_fit,loss_value = self.fit(X_train, Y_train)\n",
        "          print(f\"Loss value for {index+1}-fold is : {loss_value}\")\n",
        "          #testing\n",
        "          y_pred = self.predict(X_test, W_fit)\n",
        "          #accuracy\n",
        "          fold_accuracy= self.accu_eval(y_pred, Y_test)\n",
        "          accuracy += fold_accuracy\n",
        "          print(f\"accuracy for {index+1}-fold is {fold_accuracy}\")\n",
        "        average_acc = accuracy / k\n",
        "        print(average_acc)\n",
        "        return W_fit\n",
        "\n",
        "\n",
        "\n"
      ],
      "metadata": {
        "id": "uL-MNdKN-UbJ"
      },
      "execution_count": null,
      "outputs": []
    },
    {
      "cell_type": "code",
      "execution_count": null,
      "metadata": {
        "id": "lMvaEe1sIb3R",
        "colab": {
          "base_uri": "https://localhost:8080/"
        },
        "outputId": "56da764a-3740-4358-957b-6c848db5b8a3"
      },
      "outputs": [
        {
          "output_type": "stream",
          "name": "stdout",
          "text": [
            "(127, 9) (127,)\n",
            "(127, 9) (127,)\n",
            "(127, 9) (127,)\n",
            "(127, 9) (127,)\n",
            "(127, 9) (127,)\n",
            "(127, 9) (127,)\n",
            "(127, 9) (127,)\n",
            "(127, 9) (127,)\n",
            "(127, 9) (127,)\n",
            "(127, 9) (127,)\n"
          ]
        },
        {
          "output_type": "stream",
          "name": "stderr",
          "text": [
            "100%|██████████| 50000/50000 [00:06<00:00, 7941.29it/s]\n"
          ]
        },
        {
          "output_type": "stream",
          "name": "stdout",
          "text": [
            "Loss value for 1-fold is : [-0.007200636067589237]\n",
            "accuracy for 1-fold is 0.6692913385826772\n"
          ]
        },
        {
          "output_type": "stream",
          "name": "stderr",
          "text": [
            "100%|██████████| 50000/50000 [00:05<00:00, 9809.60it/s] \n"
          ]
        },
        {
          "output_type": "stream",
          "name": "stdout",
          "text": [
            "Loss value for 2-fold is : [-0.011416857859177633]\n",
            "accuracy for 2-fold is 0.7952755905511811\n"
          ]
        },
        {
          "output_type": "stream",
          "name": "stderr",
          "text": [
            "100%|██████████| 50000/50000 [00:03<00:00, 12537.90it/s]\n"
          ]
        },
        {
          "output_type": "stream",
          "name": "stdout",
          "text": [
            "Loss value for 3-fold is : [-0.00782548634925087]\n",
            "accuracy for 3-fold is 0.7086614173228346\n"
          ]
        },
        {
          "output_type": "stream",
          "name": "stderr",
          "text": [
            "100%|██████████| 50000/50000 [00:05<00:00, 9940.51it/s]\n"
          ]
        },
        {
          "output_type": "stream",
          "name": "stdout",
          "text": [
            "Loss value for 4-fold is : [-0.009049720537633518]\n",
            "accuracy for 4-fold is 0.7559055118110236\n"
          ]
        },
        {
          "output_type": "stream",
          "name": "stderr",
          "text": [
            "100%|██████████| 50000/50000 [00:05<00:00, 8940.20it/s] \n"
          ]
        },
        {
          "output_type": "stream",
          "name": "stdout",
          "text": [
            "Loss value for 5-fold is : [-0.008585660399867273]\n",
            "accuracy for 5-fold is 0.6220472440944882\n"
          ]
        },
        {
          "output_type": "stream",
          "name": "stderr",
          "text": [
            "100%|██████████| 50000/50000 [00:04<00:00, 12313.97it/s]\n"
          ]
        },
        {
          "output_type": "stream",
          "name": "stdout",
          "text": [
            "Loss value for 6-fold is : [-0.004055652283543107]\n",
            "accuracy for 6-fold is 0.7637795275590551\n"
          ]
        },
        {
          "output_type": "stream",
          "name": "stderr",
          "text": [
            "100%|██████████| 50000/50000 [00:04<00:00, 10811.39it/s]\n"
          ]
        },
        {
          "output_type": "stream",
          "name": "stdout",
          "text": [
            "Loss value for 7-fold is : [-0.010118126093446438]\n",
            "accuracy for 7-fold is 0.7244094488188977\n"
          ]
        },
        {
          "output_type": "stream",
          "name": "stderr",
          "text": [
            "100%|██████████| 50000/50000 [00:06<00:00, 7747.20it/s] \n"
          ]
        },
        {
          "output_type": "stream",
          "name": "stdout",
          "text": [
            "Loss value for 8-fold is : [-0.005413426481023809]\n",
            "accuracy for 8-fold is 0.7795275590551181\n"
          ]
        },
        {
          "output_type": "stream",
          "name": "stderr",
          "text": [
            "100%|██████████| 50000/50000 [00:04<00:00, 12464.36it/s]\n"
          ]
        },
        {
          "output_type": "stream",
          "name": "stdout",
          "text": [
            "Loss value for 9-fold is : [-0.005594547403887235]\n",
            "accuracy for 9-fold is 0.7401574803149606\n"
          ]
        },
        {
          "output_type": "stream",
          "name": "stderr",
          "text": [
            "100%|██████████| 50000/50000 [00:04<00:00, 12393.56it/s]"
          ]
        },
        {
          "output_type": "stream",
          "name": "stdout",
          "text": [
            "Loss value for 10-fold is : [-0.010301303032913817]\n",
            "accuracy for 10-fold is 0.7086614173228346\n",
            "0.7267716535433071\n",
            "[[ 4.58787414]\n",
            " [-3.63675448]\n",
            " [ 2.61480523]\n",
            " [-2.85632809]\n",
            " [ 1.28532187]\n",
            " [-4.83664877]\n",
            " [-4.671045  ]\n",
            " [ 3.43678606]\n",
            " [ 4.94541626]]\n",
            "Accuracy is: 0.78125\n"
          ]
        },
        {
          "output_type": "stream",
          "name": "stderr",
          "text": [
            "\n"
          ]
        }
      ],
      "source": [
        "\n",
        "logreg = LogisticRegression()\n",
        "W_fit = logreg.k_fold_cross_validation(X_train, y_train)\n",
        "print(W_fit)\n",
        "\n",
        "y_predict = logreg.predict(X_test,W_fit)\n",
        "acc = logreg.accu_eval(y_predict, y_test)\n",
        "print(f\"Accuracy is: {acc}\")"
      ]
    }
  ],
  "metadata": {
    "colab": {
      "provenance": []
    },
    "kernelspec": {
      "display_name": "Python 3",
      "name": "python3"
    },
    "language_info": {
      "name": "python"
    }
  },
  "nbformat": 4,
  "nbformat_minor": 0
}