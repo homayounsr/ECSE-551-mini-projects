{
  "cells": [
    {
      "cell_type": "code",
      "execution_count": null,
      "metadata": {
        "id": "Q8i_K-Od-SP1",
        "colab": {
          "base_uri": "https://localhost:8080/"
        },
        "outputId": "e5a04f1f-bb32-4261-a73a-9c13bf247669"
      },
      "outputs": [
        {
          "output_type": "stream",
          "name": "stdout",
          "text": [
            "Mounted at /content/gdrive\n"
          ]
        }
      ],
      "source": [
        "from google.colab import drive\n",
        "drive.mount('/content/gdrive')"
      ]
    },
    {
      "cell_type": "code",
      "execution_count": null,
      "metadata": {
        "id": "BxJx_6SA-dhI"
      },
      "outputs": [],
      "source": [
        "import pandas as pd\n",
        "import numpy as np\n",
        "import matplotlib.pyplot as plt\n",
        "from re import X\n",
        "from random import seed\n",
        "from random import randrange"
      ]
    },
    {
      "cell_type": "code",
      "execution_count": null,
      "metadata": {
        "id": "mZdBamd1-l65"
      },
      "outputs": [],
      "source": [
        "#Load Data\n",
        "data= pd.read_csv('/content/gdrive/MyDrive/ECSE 551/MP1/Kidney disease.csv')\n",
        "\n",
        "df = pd.DataFrame(data)"
      ]
    },
    {
      "cell_type": "code",
      "execution_count": null,
      "metadata": {
        "id": "gQ5Hhq57mH-z",
        "colab": {
          "base_uri": "https://localhost:8080/"
        },
        "outputId": "6c55a504-50e9-4af8-baaa-c2a55a493b25"
      },
      "outputs": [
        {
          "output_type": "stream",
          "name": "stdout",
          "text": [
            "     Pregnancies: Number of times pregnant  Glucose  BloodPressure  \\\n",
            "0                                 0.176470  0.53769        0.50820   \n",
            "1                                 0.235290  0.54774        0.52459   \n",
            "2                                 0.235290  0.74372        0.49180   \n",
            "3                                 0.470590  0.98492        0.62295   \n",
            "4                                 0.294120  0.81407        0.85246   \n",
            "..                                     ...      ...            ...   \n",
            "324                               0.058824  0.54774        0.49180   \n",
            "325                               0.058824  0.45226        0.50820   \n",
            "326                               0.058824  0.62814        0.57377   \n",
            "327                               0.058824  0.59799        0.44262   \n",
            "328                               0.176470  0.50251        0.55738   \n",
            "\n",
            "     Diastolic blood pressure   Heart Rate  SkinThickness   Insulin  \\\n",
            "0                     0.131310    0.056738        0.34128  0.256190   \n",
            "1                     0.444440    0.117020        0.51863  0.353120   \n",
            "2                     0.272730    0.375890        0.46051  0.030743   \n",
            "3                     0.292930    0.330970        0.55887  0.225020   \n",
            "4                     0.000000    0.000000        0.56185  0.031170   \n",
            "..                         ...         ...            ...       ...   \n",
            "324                   0.080808    0.215130        0.37854  0.371050   \n",
            "325                   0.181820    0.069740        0.37407  0.508110   \n",
            "326                   0.242420    0.130020        0.36215  0.061059   \n",
            "327                   0.131310    0.059102        0.33234  0.054227   \n",
            "328                   0.232320    0.095745        0.47094  0.371900   \n",
            "\n",
            "     BMI:Body mass  DiabetesPedigreeFunction  Class Labels  \n",
            "0         0.033333                   0.52308             1  \n",
            "1         0.083333                   0.52308             1  \n",
            "2         0.133330                   0.27692             1  \n",
            "3         0.600000                   0.63077             1  \n",
            "4         0.516670                   0.38462             1  \n",
            "..             ...                       ...           ...  \n",
            "324       0.000000                   0.44615             0  \n",
            "325       0.066667                   0.52308             0  \n",
            "326       0.066667                   0.29231             0  \n",
            "327       0.050000                   0.29231             0  \n",
            "328       0.116670                   0.46154             0  \n",
            "\n",
            "[329 rows x 10 columns]\n"
          ]
        }
      ],
      "source": [
        "# Define the header labels for the predictor variables\n",
        "header_labels = [\"Pregnancies: Number of times pregnant\", \"Glucose\", \"BloodPressure\", \"Diastolic blood pressure \", \"Heart Rate\", \"SkinThickness\", \"Insulin\", \"BMI:Body mass\", \"DiabetesPedigreeFunction\",\"Class Labels\"]\n",
        "# Add the header labels to the DataFrame\n",
        "df.columns = header_labels\n",
        "# # Display the DataFrame\n",
        "print(df)"
      ]
    },
    {
      "cell_type": "code",
      "execution_count": null,
      "metadata": {
        "id": "Irzn137pWq0D",
        "colab": {
          "base_uri": "https://localhost:8080/",
          "height": 280
        },
        "outputId": "c88f04b6-6fa2-4330-f6ac-53a805b911bb"
      },
      "outputs": [
        {
          "output_type": "execute_result",
          "data": {
            "text/plain": [
              "<matplotlib.axes._subplots.AxesSubplot at 0x7fbb7c9abd30>"
            ]
          },
          "metadata": {},
          "execution_count": 5
        },
        {
          "output_type": "display_data",
          "data": {
            "text/plain": [
              "<Figure size 432x288 with 1 Axes>"
            ],
            "image/png": "[encoded data removed]"
          },
          "metadata": {
            "needs_background": "light"
          }
        }
      ],
      "source": [
        "###################Step 1: Data Distribution#################\n",
        "#Class Distribution\n",
        "class_labels = df[\"Class Labels\"]\n",
        "class_label_counts = class_labels.value_counts()\n",
        "class_label_counts.plot(kind=\"bar\")"
      ]
    },
    {
      "cell_type": "code",
      "execution_count": null,
      "metadata": {
        "id": "RGCMvANTmpEz",
        "colab": {
          "base_uri": "https://localhost:8080/",
          "height": 295
        },
        "outputId": "6169f132-9cd8-4edb-be01-a769efb3a7ee"
      },
      "outputs": [
        {
          "output_type": "display_data",
          "data": {
            "text/plain": [
              "<Figure size 432x288 with 2 Axes>"
            ],
            "image/png": "[encoded data removed]"
          },
          "metadata": {
            "needs_background": "light"
          }
        }
      ],
      "source": [
        "# Filter the DataFrame to only include rows with Class Labels 1 or 0\n",
        "#Class 1 = Good\n",
        "#Class 0 Bad\n",
        "class_0 = df[df['Class Labels'] == 0]\n",
        "class_1 = df[df['Class Labels'] == 1]\n",
        "# Plot the distribution of the \"Alcohol\" column for the class 1\n",
        "# Create a figure and two subplots\n",
        "fig, (ax1, ax2) = plt.subplots(1, 2)\n",
        "\n",
        "# Plot data1 in first subplot\n",
        "ax1.hist(class_0['DiabetesPedigreeFunction'], bins=20, edgecolor='k')\n",
        "ax1.set_title('DiabetesPedigreeFunction C0')\n",
        "plt.xlabel('DiabetesPedigreeFunction')\n",
        "plt.ylabel('Count')\n",
        "\n",
        "\n",
        "# Plot data2 in second subplot\n",
        "ax2.hist(class_1['DiabetesPedigreeFunction'], bins=20, edgecolor='k')\n",
        "ax2.set_title('DiabetesPedigreeFunction C1')\n",
        "plt.xlabel('DiabetesPedigreeFunction')\n",
        "plt.ylabel('Count')\n",
        "plt.show()"
      ]
    },
    {
      "cell_type": "code",
      "source": [
        "# from sklearn.utils import shuffle\n",
        "# #Shuffle the dataset\n",
        "# dataset = shuffle(np.array(data))\n",
        "# # Save the shuffled dataset to a new file\n",
        "# np.savetxt('/content/gdrive/MyDrive/ECSE 551/MP1/Kidney disease_shuffled.csv', dataset, delimiter=',')"
      ],
      "metadata": {
        "id": "EyFKhANyB76e"
      },
      "execution_count": null,
      "outputs": []
    },
    {
      "cell_type": "code",
      "execution_count": null,
      "metadata": {
        "id": "ALk6yiiijF2i",
        "colab": {
          "base_uri": "https://localhost:8080/"
        },
        "outputId": "afc07195-160d-4484-8ec9-73ef11f00f27"
      },
      "outputs": [
        {
          "output_type": "stream",
          "name": "stdout",
          "text": [
            "(329,)\n",
            "X_trian shape (263, 8)\n",
            "X_test shape (66, 8)\n",
            "y_train shape (263,)\n",
            "y_test shape (66,)\n",
            "[1. 1. 1. 1. 0. 0. 1. 0. 0. 1. 0. 1. 0. 1. 1. 0. 0. 0. 0. 1. 1. 1. 0. 1.\n",
            " 1. 0. 0. 1. 0. 0. 1. 0. 1. 0. 0. 0. 0. 0. 1. 0. 1. 1. 1. 1. 0. 0. 1. 0.\n",
            " 0. 0. 0. 1. 0. 1. 0. 1. 1. 1. 1. 0. 0. 1. 0. 0. 1. 0. 1. 0. 1. 0. 1. 0.\n",
            " 0. 1. 1. 1. 0. 0. 1. 1. 0. 0. 1. 1. 1. 0. 0. 0. 1. 1. 0. 0. 1. 1. 0. 0.\n",
            " 0. 1. 0. 1. 0. 0. 0. 1. 1. 0. 0. 0. 1. 0. 0. 1. 1. 1. 0. 1. 0. 0. 1. 0.\n",
            " 0. 1. 1. 1. 0. 1. 1. 0. 1. 1. 1. 1. 1. 1. 0. 0. 0. 1. 0. 1. 0. 1. 0. 1.\n",
            " 0. 1. 0. 0. 0. 1. 1. 0. 1. 1. 1. 0. 0. 1. 0. 1. 0. 1. 1. 0. 0. 1. 0. 0.\n",
            " 1. 1. 1. 1. 0. 1. 1. 0. 1. 1. 0. 0. 0. 1. 0. 0. 1. 1. 0. 1. 1. 0. 0. 0.\n",
            " 1. 1. 0. 0. 0. 0. 1. 0. 1. 1. 1. 0. 0. 0. 0. 0. 0. 0. 0. 0. 1. 1. 1. 0.\n",
            " 1. 0. 1. 0. 0. 1. 0. 1. 0. 1. 0. 0. 1. 1. 1. 0. 0. 0. 1. 1. 1. 1. 0. 1.\n",
            " 1. 0. 1. 1. 1. 0. 0. 0. 1. 1. 0. 0. 1. 0. 0. 1. 1. 0. 0. 0. 1. 1. 1. 0.\n",
            " 0. 1. 0. 0. 0. 1. 1. 1. 0. 0. 1. 1. 1. 1. 0. 1. 1. 1. 0. 1. 1. 0. 1. 1.\n",
            " 0. 0. 1. 0. 0. 0. 1. 1. 0. 1. 0. 0. 1. 0. 1. 0. 1. 1. 0. 1. 1. 0. 0. 1.\n",
            " 1. 0. 0. 1. 1. 1. 1. 0. 0. 0. 1. 1. 0. 0. 1. 1. 0.]\n"
          ]
        }
      ],
      "source": [
        "#Split Data\n",
        "dataset = np.loadtxt('/content/gdrive/MyDrive/ECSE 551/MP1/Kidney disease_shuffled.csv', delimiter=',')\n",
        "# Shuffle the rows of the data\n",
        "\n",
        "\n",
        "X = dataset[:, [0,1,2,3,5,6,7,8]]\n",
        "y = dataset[:, 9]\n",
        "# Split the data into training and testing sets\n",
        "train_ratio = 0.8\n",
        "train_size = int(train_ratio * X.shape[0])\n",
        "X_train, X_test = X[:train_size, :], X[train_size:, :]\n",
        "y_train, y_test = y[:train_size], y[train_size:]\n",
        "\n",
        "print(y.shape)\n",
        "print(\"X_trian shape\", X_train.shape)\n",
        "print(\"X_test shape\", X_test.shape)\n",
        "print(\"y_train shape\", y_train.shape)\n",
        "print(\"y_test shape\", y_test.shape)\n",
        "print(y)"
      ]
    },
    {
      "cell_type": "code",
      "execution_count": null,
      "metadata": {
        "id": "rgGZL-TTmyrY"
      },
      "outputs": [],
      "source": [
        "from tqdm import tqdm\n",
        "import numpy as np\n",
        "import random\n",
        "random.seed(3)\n",
        "\n",
        "class LogisticRegression:\n",
        "    def sigmoid(self, z):\n",
        "        sig = 1 / (1 + np.exp(-z))\n",
        "        return sig\n",
        "\n",
        "    def cost_function(self, y_train, y_predict):\n",
        "        # using negative log-likelihood to calculate the cost entropy loss function\n",
        "        cost = -np.mean(y_train*(np.log(y_predict)) - (1-y_train)*np.log(1-y_predict))\n",
        "        return cost\n",
        "\n",
        "    def gradient_descent(self, X_train, y_train, y_predict):\n",
        "        m = X_train.shape[0]\n",
        "        W_grad = (1/m)*np.dot(X_train.T, (y_predict - y_train))\n",
        "        return W_grad\n",
        "\n",
        "    def fit(self, X_train, y_train, alpha=0.01, k=50000):\n",
        "        m, n = X_train.shape\n",
        "        y_train = y_train.reshape(m,1)\n",
        "        W_fit = np.zeros((n,1))\n",
        "        loss_value = []\n",
        "\n",
        "        for i in tqdm(range(k)):\n",
        "            y_predict = self.sigmoid(np.dot(X_train, W_fit))\n",
        "            w_grad = self.gradient_descent(X_train, y_train, y_predict)\n",
        "            W_fit -= alpha*w_grad\n",
        "        loss_fuc = self.cost_function(y_train, y_predict)\n",
        "        loss_value.append(loss_fuc)\n",
        "        return W_fit, loss_value\n",
        "\n",
        "    def predict(self, X_test, W):\n",
        "        y_pred = self.sigmoid(np.dot(X_test, W))\n",
        "        predict_classes = []\n",
        "        predict_classes = [1 if prediction > 0.5 else 0 for prediction in y_pred]\n",
        "        return np.array(predict_classes)\n",
        "\n",
        "    def accu_eval(self, y_pred, y_test):\n",
        "        accuracy = np.sum(y_test == y_pred) / len(y_test)\n",
        "        return accuracy\n",
        "\n",
        "\n",
        "\n",
        "    def cross_validation_split(self, X, y, folds):\n",
        "        X_split = []\n",
        "        y_split = []\n",
        "        fold_size = int(len(X) / folds)\n",
        "        for i in range(folds):\n",
        "            fold_start = i * fold_size\n",
        "            fold_end = fold_start + fold_size\n",
        "            fold_X = X[fold_start:fold_end]\n",
        "            fold_y = y[fold_start:fold_end]\n",
        "            X_split.append(fold_X)\n",
        "            y_split.append(fold_y)\n",
        "            print(fold_X.shape, fold_y.shape)\n",
        "        return np.array(X_split), np.array(y_split)\n",
        "\n",
        "    def k_fold_cross_validation(self, X, y, k=10):\n",
        "        folds = self.cross_validation_split(X, y, k)\n",
        "        X_folds = folds[0]\n",
        "        y_folds = folds[1]\n",
        "        indices = np.arange(k)\n",
        "        accuracy = 0\n",
        "\n",
        "        # exclude index fold\n",
        "        for index in range(k):\n",
        "          #spliting data\n",
        "          X_train = np.concatenate(X_folds[indices!= index])\n",
        "          Y_train = np.concatenate(y_folds[indices!= index])   \n",
        "          X_test = X_folds[index]\n",
        "          Y_test = y_folds[index]\n",
        "          #training\n",
        "          W_fit,loss_value = self.fit(X_train, Y_train)\n",
        "          print(f\"Loss value for {index+1}-fold is : {loss_value}\")\n",
        "          #testing\n",
        "          y_pred = self.predict(X_test, W_fit)\n",
        "          #accuracy\n",
        "          fold_accuracy= self.accu_eval(y_pred, Y_test)\n",
        "          accuracy += fold_accuracy\n",
        "          print(f\"accuracy for {index+1}-fold is {fold_accuracy}\")\n",
        "        average_acc = accuracy / k\n",
        "        print(average_acc)\n",
        "        return W_fit\n",
        "\n",
        "\n",
        "\n"
      ]
    },
    {
      "cell_type": "code",
      "source": [
        "\n",
        "logreg = LogisticRegression()\n",
        "W_fit = logreg.k_fold_cross_validation(X_train, y_train)\n",
        "print(W_fit)\n",
        "\n",
        "y_predict = logreg.predict(X_test,W_fit)\n",
        "acc = logreg.accu_eval(y_predict, y_test)\n",
        "print(f\"Accuracy is: {acc}\")\n",
        "\n"
      ],
      "metadata": {
        "colab": {
          "base_uri": "https://localhost:8080/"
        },
        "id": "DzWLNey3rPx6",
        "outputId": "7c15c011-7a81-49ed-dd72-1b6bffcd4761"
      },
      "execution_count": null,
      "outputs": [
        {
          "output_type": "stream",
          "name": "stdout",
          "text": [
            "(26, 8) (26,)\n",
            "(26, 8) (26,)\n",
            "(26, 8) (26,)\n",
            "(26, 8) (26,)\n",
            "(26, 8) (26,)\n",
            "(26, 8) (26,)\n",
            "(26, 8) (26,)\n",
            "(26, 8) (26,)\n",
            "(26, 8) (26,)\n",
            "(26, 8) (26,)\n"
          ]
        },
        {
          "output_type": "stream",
          "name": "stderr",
          "text": [
            "100%|██████████| 50000/50000 [00:04<00:00, 10960.50it/s]\n"
          ]
        },
        {
          "output_type": "stream",
          "name": "stdout",
          "text": [
            "Loss value for 1-fold is : [-0.050869216402636135]\n",
            "accuracy for 1-fold is 0.5384615384615384\n"
          ]
        },
        {
          "output_type": "stream",
          "name": "stderr",
          "text": [
            "100%|██████████| 50000/50000 [00:02<00:00, 23512.28it/s]\n"
          ]
        },
        {
          "output_type": "stream",
          "name": "stdout",
          "text": [
            "Loss value for 2-fold is : [-0.06323251160217198]\n",
            "accuracy for 2-fold is 0.6153846153846154\n"
          ]
        },
        {
          "output_type": "stream",
          "name": "stderr",
          "text": [
            "100%|██████████| 50000/50000 [00:02<00:00, 20703.73it/s]\n"
          ]
        },
        {
          "output_type": "stream",
          "name": "stdout",
          "text": [
            "Loss value for 3-fold is : [-0.05466728752516379]\n",
            "accuracy for 3-fold is 0.5769230769230769\n"
          ]
        },
        {
          "output_type": "stream",
          "name": "stderr",
          "text": [
            "100%|██████████| 50000/50000 [00:02<00:00, 19003.17it/s]\n"
          ]
        },
        {
          "output_type": "stream",
          "name": "stdout",
          "text": [
            "Loss value for 4-fold is : [-0.05976439842115661]\n",
            "accuracy for 4-fold is 0.7307692307692307\n"
          ]
        },
        {
          "output_type": "stream",
          "name": "stderr",
          "text": [
            "100%|██████████| 50000/50000 [00:03<00:00, 16305.68it/s]\n"
          ]
        },
        {
          "output_type": "stream",
          "name": "stdout",
          "text": [
            "Loss value for 5-fold is : [-0.05129799029909814]\n",
            "accuracy for 5-fold is 0.6923076923076923\n"
          ]
        },
        {
          "output_type": "stream",
          "name": "stderr",
          "text": [
            "100%|██████████| 50000/50000 [00:03<00:00, 14719.15it/s]\n"
          ]
        },
        {
          "output_type": "stream",
          "name": "stdout",
          "text": [
            "Loss value for 6-fold is : [-0.054189180319570145]\n",
            "accuracy for 6-fold is 0.6153846153846154\n"
          ]
        },
        {
          "output_type": "stream",
          "name": "stderr",
          "text": [
            "100%|██████████| 50000/50000 [00:01<00:00, 31859.86it/s]\n"
          ]
        },
        {
          "output_type": "stream",
          "name": "stdout",
          "text": [
            "Loss value for 7-fold is : [-0.051934830655271165]\n",
            "accuracy for 7-fold is 0.8076923076923077\n"
          ]
        },
        {
          "output_type": "stream",
          "name": "stderr",
          "text": [
            "100%|██████████| 50000/50000 [00:01<00:00, 49483.25it/s]\n"
          ]
        },
        {
          "output_type": "stream",
          "name": "stdout",
          "text": [
            "Loss value for 8-fold is : [-0.05762694742582657]\n",
            "accuracy for 8-fold is 0.5769230769230769\n"
          ]
        },
        {
          "output_type": "stream",
          "name": "stderr",
          "text": [
            "100%|██████████| 50000/50000 [00:00<00:00, 51059.30it/s]\n"
          ]
        },
        {
          "output_type": "stream",
          "name": "stdout",
          "text": [
            "Loss value for 9-fold is : [-0.0561277790914917]\n",
            "accuracy for 9-fold is 0.6153846153846154\n"
          ]
        },
        {
          "output_type": "stream",
          "name": "stderr",
          "text": [
            "100%|██████████| 50000/50000 [00:01<00:00, 48746.46it/s]"
          ]
        },
        {
          "output_type": "stream",
          "name": "stdout",
          "text": [
            "Loss value for 10-fold is : [-0.055088153112924323]\n",
            "accuracy for 10-fold is 0.7692307692307693\n",
            "0.6538461538461537\n",
            "[[ 1.29669487]\n",
            " [ 1.38185561]\n",
            " [-2.79788191]\n",
            " [ 0.12048165]\n",
            " [ 0.93864713]\n",
            " [ 0.73480022]\n",
            " [ 1.99729069]\n",
            " [-1.25258956]]\n",
            "Accuracy is: 0.7424242424242424\n"
          ]
        },
        {
          "output_type": "stream",
          "name": "stderr",
          "text": [
            "\n"
          ]
        }
      ]
    }
  ],
  "metadata": {
    "colab": {
      "provenance": []
    },
    "kernelspec": {
      "display_name": "Python 3",
      "name": "python3"
    },
    "language_info": {
      "name": "python"
    }
  },
  "nbformat": 4,
  "nbformat_minor": 0
}